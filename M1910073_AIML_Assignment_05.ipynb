{
  "nbformat": 4,
  "nbformat_minor": 0,
  "metadata": {
    "colab": {
      "provenance": [],
      "collapsed_sections": []
    },
    "kernelspec": {
      "display_name": "Python 3",
      "language": "python",
      "name": "python3"
    },
    "language_info": {
      "codemirror_mode": {
        "name": "ipython",
        "version": 3
      },
      "file_extension": ".py",
      "mimetype": "text/x-python",
      "name": "python",
      "nbconvert_exporter": "python",
      "pygments_lexer": "ipython3",
      "version": "3.8.3"
    }
  },
  "cells": [
    {
      "cell_type": "markdown",
      "source": [
        "**Name: -** Chinmay Bhangale\n",
        "\n",
        "**Registration No.: -** M1910006\n",
        "\n",
        "**Class: -** B. Tech Mechanical"
      ],
      "metadata": {
        "id": "71O3IT8053qe"
      }
    },
    {
      "cell_type": "markdown",
      "source": [
        "#A05 K-MEANS\n",
        "## Step 1: Initial setup\n",
        "Import necessary libraries"
      ],
      "metadata": {
        "id": "pnVR86-4bVmO"
      }
    },
    {
      "cell_type": "code",
      "metadata": {
        "id": "EUjLEsxHie4M"
      },
      "source": [
        "import pandas as pd\n",
        "\n",
        "from mpl_toolkits.mplot3d import Axes3D\n",
        "import matplotlib\n",
        "import matplotlib.pyplot as plt\n",
        "plt.style.use('ggplot')\n",
        "\n",
        "from sklearn.cluster import KMeans"
      ],
      "execution_count": 1,
      "outputs": []
    },
    {
      "cell_type": "markdown",
      "source": [
        "#Step 2A: Load data\n",
        "Confirm that dataset has 14271 samples using df.shape"
      ],
      "metadata": {
        "id": "hyYV_bPYcFqW"
      }
    },
    {
      "cell_type": "code",
      "metadata": {
        "id": "yjMhiN19jANo",
        "colab": {
          "base_uri": "https://localhost:8080/"
        },
        "outputId": "1491e987-1dbd-4c40-d93f-a679b3e633de"
      },
      "source": [
        "df=pd.read_csv(\"Crimes.csv\", header=0)\n",
        "print(df.shape)"
      ],
      "execution_count": 2,
      "outputs": [
        {
          "output_type": "stream",
          "name": "stdout",
          "text": [
            "(14271, 22)\n"
          ]
        }
      ]
    },
    {
      "cell_type": "markdown",
      "source": [
        "#Step 2B: Clean data - remove NaNs\n",
        "Confirm that the cleaned dataset has 13058 samples."
      ],
      "metadata": {
        "id": "qZddmlPCk2cn"
      }
    },
    {
      "cell_type": "code",
      "metadata": {
        "id": "wWuUZebNjMH-",
        "colab": {
          "base_uri": "https://localhost:8080/"
        },
        "outputId": "856b15bd-83af-41b7-b9f7-b6a6402b7ace"
      },
      "source": [
        "df1=df.dropna()\n",
        "print(df1.shape)"
      ],
      "execution_count": 3,
      "outputs": [
        {
          "output_type": "stream",
          "name": "stdout",
          "text": [
            "(13058, 22)\n"
          ]
        }
      ]
    },
    {
      "cell_type": "code",
      "metadata": {
        "id": "8TUIRZLvjfXL",
        "colab": {
          "base_uri": "https://localhost:8080/"
        },
        "outputId": "73f87aa9-024e-471a-817c-fd2f7fa7a44f"
      },
      "source": [
        "#Check datatypes of the dataset\n",
        "df1.info()"
      ],
      "execution_count": 4,
      "outputs": [
        {
          "output_type": "stream",
          "name": "stdout",
          "text": [
            "<class 'pandas.core.frame.DataFrame'>\n",
            "Int64Index: 13058 entries, 0 to 14270\n",
            "Data columns (total 22 columns):\n",
            " #   Column                Non-Null Count  Dtype  \n",
            "---  ------                --------------  -----  \n",
            " 0   ID                    13058 non-null  int64  \n",
            " 1   Case Number           13058 non-null  object \n",
            " 2   Date                  13058 non-null  object \n",
            " 3   Block                 13058 non-null  object \n",
            " 4   IUCR                  13058 non-null  int64  \n",
            " 5   Primary Type          13058 non-null  object \n",
            " 6   Description           13058 non-null  object \n",
            " 7   Location Description  13058 non-null  object \n",
            " 8   Arrest                13058 non-null  bool   \n",
            " 9   Domestic              13058 non-null  bool   \n",
            " 10  Beat                  13058 non-null  int64  \n",
            " 11  District              13058 non-null  int64  \n",
            " 12  Ward                  13058 non-null  float64\n",
            " 13  Community Area        13058 non-null  float64\n",
            " 14  FBI Code              13058 non-null  int64  \n",
            " 15  X Coordinate          13058 non-null  float64\n",
            " 16  Y Coordinate          13058 non-null  float64\n",
            " 17  Year                  13058 non-null  int64  \n",
            " 18  Updated On            13058 non-null  object \n",
            " 19  Latitude              13058 non-null  float64\n",
            " 20  Longitude             13058 non-null  float64\n",
            " 21  Location              13058 non-null  object \n",
            "dtypes: bool(2), float64(6), int64(6), object(8)\n",
            "memory usage: 2.1+ MB\n"
          ]
        }
      ]
    },
    {
      "cell_type": "markdown",
      "source": [
        "#Step 2C: Slice the dataset to only 2 features - longitudes and lattitudes"
      ],
      "metadata": {
        "id": "LrzXDofXlgOB"
      }
    },
    {
      "cell_type": "code",
      "metadata": {
        "id": "MvgsG9esjihh",
        "colab": {
          "base_uri": "https://localhost:8080/",
          "height": 424
        },
        "outputId": "2a46226e-dbe8-4da7-b8b6-8294fde60251"
      },
      "source": [
        "df2=df1.loc[:, [\"Latitude\",\"Longitude\"]]\n",
        "df2"
      ],
      "execution_count": 5,
      "outputs": [
        {
          "output_type": "execute_result",
          "data": {
            "text/plain": [
              "        Latitude  Longitude\n",
              "0      41.766615 -87.674337\n",
              "1      41.879691 -87.731530\n",
              "2      41.968445 -87.708871\n",
              "3      41.854537 -87.712418\n",
              "4      41.851561 -87.723887\n",
              "...          ...        ...\n",
              "14266  41.877110 -87.723964\n",
              "14267  41.778161 -87.695806\n",
              "14268  41.859798 -87.729873\n",
              "14269  41.898451 -87.768768\n",
              "14270  41.891379 -87.745876\n",
              "\n",
              "[13058 rows x 2 columns]"
            ],
            "text/html": [
              "\n",
              "  <div id=\"df-78db2c77-c50e-4ac0-8256-fbc669d0d3f2\">\n",
              "    <div class=\"colab-df-container\">\n",
              "      <div>\n",
              "<style scoped>\n",
              "    .dataframe tbody tr th:only-of-type {\n",
              "        vertical-align: middle;\n",
              "    }\n",
              "\n",
              "    .dataframe tbody tr th {\n",
              "        vertical-align: top;\n",
              "    }\n",
              "\n",
              "    .dataframe thead th {\n",
              "        text-align: right;\n",
              "    }\n",
              "</style>\n",
              "<table border=\"1\" class=\"dataframe\">\n",
              "  <thead>\n",
              "    <tr style=\"text-align: right;\">\n",
              "      <th></th>\n",
              "      <th>Latitude</th>\n",
              "      <th>Longitude</th>\n",
              "    </tr>\n",
              "  </thead>\n",
              "  <tbody>\n",
              "    <tr>\n",
              "      <th>0</th>\n",
              "      <td>41.766615</td>\n",
              "      <td>-87.674337</td>\n",
              "    </tr>\n",
              "    <tr>\n",
              "      <th>1</th>\n",
              "      <td>41.879691</td>\n",
              "      <td>-87.731530</td>\n",
              "    </tr>\n",
              "    <tr>\n",
              "      <th>2</th>\n",
              "      <td>41.968445</td>\n",
              "      <td>-87.708871</td>\n",
              "    </tr>\n",
              "    <tr>\n",
              "      <th>3</th>\n",
              "      <td>41.854537</td>\n",
              "      <td>-87.712418</td>\n",
              "    </tr>\n",
              "    <tr>\n",
              "      <th>4</th>\n",
              "      <td>41.851561</td>\n",
              "      <td>-87.723887</td>\n",
              "    </tr>\n",
              "    <tr>\n",
              "      <th>...</th>\n",
              "      <td>...</td>\n",
              "      <td>...</td>\n",
              "    </tr>\n",
              "    <tr>\n",
              "      <th>14266</th>\n",
              "      <td>41.877110</td>\n",
              "      <td>-87.723964</td>\n",
              "    </tr>\n",
              "    <tr>\n",
              "      <th>14267</th>\n",
              "      <td>41.778161</td>\n",
              "      <td>-87.695806</td>\n",
              "    </tr>\n",
              "    <tr>\n",
              "      <th>14268</th>\n",
              "      <td>41.859798</td>\n",
              "      <td>-87.729873</td>\n",
              "    </tr>\n",
              "    <tr>\n",
              "      <th>14269</th>\n",
              "      <td>41.898451</td>\n",
              "      <td>-87.768768</td>\n",
              "    </tr>\n",
              "    <tr>\n",
              "      <th>14270</th>\n",
              "      <td>41.891379</td>\n",
              "      <td>-87.745876</td>\n",
              "    </tr>\n",
              "  </tbody>\n",
              "</table>\n",
              "<p>13058 rows × 2 columns</p>\n",
              "</div>\n",
              "      <button class=\"colab-df-convert\" onclick=\"convertToInteractive('df-78db2c77-c50e-4ac0-8256-fbc669d0d3f2')\"\n",
              "              title=\"Convert this dataframe to an interactive table.\"\n",
              "              style=\"display:none;\">\n",
              "        \n",
              "  <svg xmlns=\"http://www.w3.org/2000/svg\" height=\"24px\"viewBox=\"0 0 24 24\"\n",
              "       width=\"24px\">\n",
              "    <path d=\"M0 0h24v24H0V0z\" fill=\"none\"/>\n",
              "    <path d=\"M18.56 5.44l.94 2.06.94-2.06 2.06-.94-2.06-.94-.94-2.06-.94 2.06-2.06.94zm-11 1L8.5 8.5l.94-2.06 2.06-.94-2.06-.94L8.5 2.5l-.94 2.06-2.06.94zm10 10l.94 2.06.94-2.06 2.06-.94-2.06-.94-.94-2.06-.94 2.06-2.06.94z\"/><path d=\"M17.41 7.96l-1.37-1.37c-.4-.4-.92-.59-1.43-.59-.52 0-1.04.2-1.43.59L10.3 9.45l-7.72 7.72c-.78.78-.78 2.05 0 2.83L4 21.41c.39.39.9.59 1.41.59.51 0 1.02-.2 1.41-.59l7.78-7.78 2.81-2.81c.8-.78.8-2.07 0-2.86zM5.41 20L4 18.59l7.72-7.72 1.47 1.35L5.41 20z\"/>\n",
              "  </svg>\n",
              "      </button>\n",
              "      \n",
              "  <style>\n",
              "    .colab-df-container {\n",
              "      display:flex;\n",
              "      flex-wrap:wrap;\n",
              "      gap: 12px;\n",
              "    }\n",
              "\n",
              "    .colab-df-convert {\n",
              "      background-color: #E8F0FE;\n",
              "      border: none;\n",
              "      border-radius: 50%;\n",
              "      cursor: pointer;\n",
              "      display: none;\n",
              "      fill: #1967D2;\n",
              "      height: 32px;\n",
              "      padding: 0 0 0 0;\n",
              "      width: 32px;\n",
              "    }\n",
              "\n",
              "    .colab-df-convert:hover {\n",
              "      background-color: #E2EBFA;\n",
              "      box-shadow: 0px 1px 2px rgba(60, 64, 67, 0.3), 0px 1px 3px 1px rgba(60, 64, 67, 0.15);\n",
              "      fill: #174EA6;\n",
              "    }\n",
              "\n",
              "    [theme=dark] .colab-df-convert {\n",
              "      background-color: #3B4455;\n",
              "      fill: #D2E3FC;\n",
              "    }\n",
              "\n",
              "    [theme=dark] .colab-df-convert:hover {\n",
              "      background-color: #434B5C;\n",
              "      box-shadow: 0px 1px 3px 1px rgba(0, 0, 0, 0.15);\n",
              "      filter: drop-shadow(0px 1px 2px rgba(0, 0, 0, 0.3));\n",
              "      fill: #FFFFFF;\n",
              "    }\n",
              "  </style>\n",
              "\n",
              "      <script>\n",
              "        const buttonEl =\n",
              "          document.querySelector('#df-78db2c77-c50e-4ac0-8256-fbc669d0d3f2 button.colab-df-convert');\n",
              "        buttonEl.style.display =\n",
              "          google.colab.kernel.accessAllowed ? 'block' : 'none';\n",
              "\n",
              "        async function convertToInteractive(key) {\n",
              "          const element = document.querySelector('#df-78db2c77-c50e-4ac0-8256-fbc669d0d3f2');\n",
              "          const dataTable =\n",
              "            await google.colab.kernel.invokeFunction('convertToInteractive',\n",
              "                                                     [key], {});\n",
              "          if (!dataTable) return;\n",
              "\n",
              "          const docLinkHtml = 'Like what you see? Visit the ' +\n",
              "            '<a target=\"_blank\" href=https://colab.research.google.com/notebooks/data_table.ipynb>data table notebook</a>'\n",
              "            + ' to learn more about interactive tables.';\n",
              "          element.innerHTML = '';\n",
              "          dataTable['output_type'] = 'display_data';\n",
              "          await google.colab.output.renderOutput(dataTable, element);\n",
              "          const docLink = document.createElement('div');\n",
              "          docLink.innerHTML = docLinkHtml;\n",
              "          element.appendChild(docLink);\n",
              "        }\n",
              "      </script>\n",
              "    </div>\n",
              "  </div>\n",
              "  "
            ]
          },
          "metadata": {},
          "execution_count": 5
        }
      ]
    },
    {
      "cell_type": "markdown",
      "source": [
        "#Step 3: Visualize data"
      ],
      "metadata": {
        "id": "ir0WYHLul7_4"
      }
    },
    {
      "cell_type": "code",
      "metadata": {
        "id": "9ABKluTdjtLk",
        "colab": {
          "base_uri": "https://localhost:8080/",
          "height": 265
        },
        "outputId": "072c279a-9f02-49f4-a506-0e39f73bc01a"
      },
      "source": [
        "fig = plt.figure()\n",
        "ax = fig.add_subplot(111)\n",
        "ax.scatter(df2.Longitude, df2.Latitude, marker='.',c='green', alpha=0.3)\n",
        "plt.show()"
      ],
      "execution_count": 6,
      "outputs": [
        {
          "output_type": "display_data",
          "data": {
            "text/plain": [
              "<Figure size 432x288 with 1 Axes>"
            ],
            "image/png": "[encoded data removed]"
          },
          "metadata": {}
        }
      ]
    },
    {
      "cell_type": "markdown",
      "source": [
        "#Step 4: Implement K-Means"
      ],
      "metadata": {
        "id": "o-_mqbT2mBlw"
      }
    },
    {
      "cell_type": "code",
      "metadata": {
        "id": "A8iauR1Mjymh",
        "colab": {
          "base_uri": "https://localhost:8080/",
          "height": 404
        },
        "outputId": "48811a71-7fc9-4c84-89d8-bc429861d471"
      },
      "source": [
        "model=KMeans(7)\n",
        "model.fit(df2)\n",
        "centroids = model.cluster_centers_\n",
        "print(\"centroids\", centroids)\n",
        "inertia = model.inertia_\n",
        "print(\"inertia\", inertia)\n",
        "ax.scatter(centroids[:,0], centroids[:,1], marker='o', c='red', alpha=0.5, linewidths=3, s=169)\n",
        "plt.show()\n",
        "fig"
      ],
      "execution_count": 7,
      "outputs": [
        {
          "output_type": "stream",
          "name": "stdout",
          "text": [
            "centroids [[ 41.80362299 -87.62032881]\n",
            " [ 41.89340688 -87.75687531]\n",
            " [ 41.69660195 -87.63106579]\n",
            " [ 41.98175614 -87.68506657]\n",
            " [ 41.8781949  -87.70960111]\n",
            " [ 41.75292523 -87.58280676]\n",
            " [ 41.77247112 -87.66490204]]\n",
            "inertia 9.385799382880112\n"
          ]
        },
        {
          "output_type": "execute_result",
          "data": {
            "text/plain": [
              "<Figure size 432x288 with 1 Axes>"
            ],
            "image/png": "[encoded data removed]"
          },
          "metadata": {},
          "execution_count": 7
        }
      ]
    },
    {
      "cell_type": "markdown",
      "source": [
        "### Elbow method"
      ],
      "metadata": {
        "id": "b0TveK1mXia8"
      }
    },
    {
      "cell_type": "code",
      "metadata": {
        "id": "Q9MKgCXfj3T2"
      },
      "source": [
        "inertias = []   # List to store inertia values for different number of clusters.\n",
        "for i in range(1,11):\n",
        "    model = KMeans(n_clusters=i)\n",
        "    model.fit(df2)\n",
        "    inertias.append(model.inertia_)\n"
      ],
      "execution_count": 8,
      "outputs": []
    },
    {
      "cell_type": "code",
      "source": [
        "# Plot\n",
        "plt.plot(list(range(1,11)), inertias, \"or-\")\n",
        "plt.xlabel('n_clusters value')\n",
        "plt.ylabel('Inertia')\n",
        "plt.title('Elbow Method using Inertia')\n",
        "plt.show()"
      ],
      "metadata": {
        "colab": {
          "base_uri": "https://localhost:8080/",
          "height": 299
        },
        "id": "iYkigQwwYEgD",
        "outputId": "72b81a25-c685-453d-a528-5bdf649d6c68"
      },
      "execution_count": 9,
      "outputs": [
        {
          "output_type": "display_data",
          "data": {
            "text/plain": [
              "<Figure size 432x288 with 1 Axes>"
            ],
            "image/png": "[encoded data removed]"
          },
          "metadata": {}
        }
      ]
    },
    {
      "cell_type": "code",
      "source": [
        "print(\"Least inertia value: {} when n_clusters: {}\".format(min(inertias),\n",
        "                                                           inertias.index(min(inertias))+1))"
      ],
      "metadata": {
        "colab": {
          "base_uri": "https://localhost:8080/"
        },
        "id": "STCEH_ncYvZk",
        "outputId": "3e338c95-6f32-47dd-d9e3-3723c283dff6"
      },
      "execution_count": 10,
      "outputs": [
        {
          "output_type": "stream",
          "name": "stdout",
          "text": [
            "Least inertia value: 6.378955706709137 when n_clusters: 10\n"
          ]
        }
      ]
    },
    {
      "cell_type": "code",
      "source": [],
      "metadata": {
        "id": "lXlzUg5CZ600"
      },
      "execution_count": 10,
      "outputs": []
    }
  ]
}