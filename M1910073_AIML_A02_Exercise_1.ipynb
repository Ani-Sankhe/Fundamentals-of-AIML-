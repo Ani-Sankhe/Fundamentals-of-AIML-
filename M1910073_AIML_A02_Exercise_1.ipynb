{
  "cells": [
    {
      "cell_type": "markdown",
      "source": [
        "**Name: -** Chinmay Bhangale\n",
        "\n",
        "**Registration No.: -** M1910006\n",
        "\n",
        "**Class: -** B.Tech Mechanical"
      ],
      "metadata": {
        "id": "Ou8_07ZAmDEO"
      }
    },
    {
      "cell_type": "markdown",
      "metadata": {
        "id": "ouMhSIrmww3n"
      },
      "source": [
        "# A02 Univariate Regression Model"
      ]
    },
    {
      "cell_type": "code",
      "execution_count": null,
      "metadata": {
        "id": "D-TcRfZkww3o"
      },
      "outputs": [],
      "source": [
        "#%matplotlib notebook\n",
        "import pandas as pd\n",
        "import matplotlib.pyplot as plt\n",
        "import matplotlib\n",
        "from mpl_toolkits.mplot3d import Axes3D\n",
        "from matplotlib import cm\n",
        "import numpy as np\n",
        "\n",
        "\n",
        "# Look pretty...\n",
        "\n",
        "# matplotlib.style.use('ggplot')\n",
        "plt.style.use('ggplot')"
      ]
    },
    {
      "cell_type": "markdown",
      "metadata": {
        "id": "Vs8rzIi8ww3t"
      },
      "source": [
        "## Read Data\n",
        "\n",
        "### Hint\n",
        "\n",
        "df=pd.read_csv(??, header=???, names=[???]) >> keep feature names as 'population' and 'profit'"
      ]
    },
    {
      "cell_type": "code",
      "execution_count": null,
      "metadata": {
        "id": "lpHkAXYwww3t",
        "outputId": "c68016a9-3e9a-4e97-8996-596db5a1422f",
        "colab": {
          "base_uri": "https://localhost:8080/",
          "height": 424
        }
      },
      "outputs": [
        {
          "output_type": "execute_result",
          "data": {
            "text/plain": [
              "    Population    Profit\n",
              "0       6.1101  17.59200\n",
              "1       5.5277   9.13020\n",
              "2       8.5186  13.66200\n",
              "3       7.0032  11.85400\n",
              "4       5.8598   6.82330\n",
              "..         ...       ...\n",
              "92      5.8707   7.20290\n",
              "93      5.3054   1.98690\n",
              "94      8.2934   0.14454\n",
              "95     13.3940   9.05510\n",
              "96      5.4369   0.61705\n",
              "\n",
              "[97 rows x 2 columns]"
            ],
            "text/html": [
              "\n",
              "  <div id=\"df-f30e15d0-b585-4591-bd11-a7ec4a57196a\">\n",
              "    <div class=\"colab-df-container\">\n",
              "      <div>\n",
              "<style scoped>\n",
              "    .dataframe tbody tr th:only-of-type {\n",
              "        vertical-align: middle;\n",
              "    }\n",
              "\n",
              "    .dataframe tbody tr th {\n",
              "        vertical-align: top;\n",
              "    }\n",
              "\n",
              "    .dataframe thead th {\n",
              "        text-align: right;\n",
              "    }\n",
              "</style>\n",
              "<table border=\"1\" class=\"dataframe\">\n",
              "  <thead>\n",
              "    <tr style=\"text-align: right;\">\n",
              "      <th></th>\n",
              "      <th>Population</th>\n",
              "      <th>Profit</th>\n",
              "    </tr>\n",
              "  </thead>\n",
              "  <tbody>\n",
              "    <tr>\n",
              "      <th>0</th>\n",
              "      <td>6.1101</td>\n",
              "      <td>17.59200</td>\n",
              "    </tr>\n",
              "    <tr>\n",
              "      <th>1</th>\n",
              "      <td>5.5277</td>\n",
              "      <td>9.13020</td>\n",
              "    </tr>\n",
              "    <tr>\n",
              "      <th>2</th>\n",
              "      <td>8.5186</td>\n",
              "      <td>13.66200</td>\n",
              "    </tr>\n",
              "    <tr>\n",
              "      <th>3</th>\n",
              "      <td>7.0032</td>\n",
              "      <td>11.85400</td>\n",
              "    </tr>\n",
              "    <tr>\n",
              "      <th>4</th>\n",
              "      <td>5.8598</td>\n",
              "      <td>6.82330</td>\n",
              "    </tr>\n",
              "    <tr>\n",
              "      <th>...</th>\n",
              "      <td>...</td>\n",
              "      <td>...</td>\n",
              "    </tr>\n",
              "    <tr>\n",
              "      <th>92</th>\n",
              "      <td>5.8707</td>\n",
              "      <td>7.20290</td>\n",
              "    </tr>\n",
              "    <tr>\n",
              "      <th>93</th>\n",
              "      <td>5.3054</td>\n",
              "      <td>1.98690</td>\n",
              "    </tr>\n",
              "    <tr>\n",
              "      <th>94</th>\n",
              "      <td>8.2934</td>\n",
              "      <td>0.14454</td>\n",
              "    </tr>\n",
              "    <tr>\n",
              "      <th>95</th>\n",
              "      <td>13.3940</td>\n",
              "      <td>9.05510</td>\n",
              "    </tr>\n",
              "    <tr>\n",
              "      <th>96</th>\n",
              "      <td>5.4369</td>\n",
              "      <td>0.61705</td>\n",
              "    </tr>\n",
              "  </tbody>\n",
              "</table>\n",
              "<p>97 rows × 2 columns</p>\n",
              "</div>\n",
              "      <button class=\"colab-df-convert\" onclick=\"convertToInteractive('df-f30e15d0-b585-4591-bd11-a7ec4a57196a')\"\n",
              "              title=\"Convert this dataframe to an interactive table.\"\n",
              "              style=\"display:none;\">\n",
              "        \n",
              "  <svg xmlns=\"http://www.w3.org/2000/svg\" height=\"24px\"viewBox=\"0 0 24 24\"\n",
              "       width=\"24px\">\n",
              "    <path d=\"M0 0h24v24H0V0z\" fill=\"none\"/>\n",
              "    <path d=\"M18.56 5.44l.94 2.06.94-2.06 2.06-.94-2.06-.94-.94-2.06-.94 2.06-2.06.94zm-11 1L8.5 8.5l.94-2.06 2.06-.94-2.06-.94L8.5 2.5l-.94 2.06-2.06.94zm10 10l.94 2.06.94-2.06 2.06-.94-2.06-.94-.94-2.06-.94 2.06-2.06.94z\"/><path d=\"M17.41 7.96l-1.37-1.37c-.4-.4-.92-.59-1.43-.59-.52 0-1.04.2-1.43.59L10.3 9.45l-7.72 7.72c-.78.78-.78 2.05 0 2.83L4 21.41c.39.39.9.59 1.41.59.51 0 1.02-.2 1.41-.59l7.78-7.78 2.81-2.81c.8-.78.8-2.07 0-2.86zM5.41 20L4 18.59l7.72-7.72 1.47 1.35L5.41 20z\"/>\n",
              "  </svg>\n",
              "      </button>\n",
              "      \n",
              "  <style>\n",
              "    .colab-df-container {\n",
              "      display:flex;\n",
              "      flex-wrap:wrap;\n",
              "      gap: 12px;\n",
              "    }\n",
              "\n",
              "    .colab-df-convert {\n",
              "      background-color: #E8F0FE;\n",
              "      border: none;\n",
              "      border-radius: 50%;\n",
              "      cursor: pointer;\n",
              "      display: none;\n",
              "      fill: #1967D2;\n",
              "      height: 32px;\n",
              "      padding: 0 0 0 0;\n",
              "      width: 32px;\n",
              "    }\n",
              "\n",
              "    .colab-df-convert:hover {\n",
              "      background-color: #E2EBFA;\n",
              "      box-shadow: 0px 1px 2px rgba(60, 64, 67, 0.3), 0px 1px 3px 1px rgba(60, 64, 67, 0.15);\n",
              "      fill: #174EA6;\n",
              "    }\n",
              "\n",
              "    [theme=dark] .colab-df-convert {\n",
              "      background-color: #3B4455;\n",
              "      fill: #D2E3FC;\n",
              "    }\n",
              "\n",
              "    [theme=dark] .colab-df-convert:hover {\n",
              "      background-color: #434B5C;\n",
              "      box-shadow: 0px 1px 3px 1px rgba(0, 0, 0, 0.15);\n",
              "      filter: drop-shadow(0px 1px 2px rgba(0, 0, 0, 0.3));\n",
              "      fill: #FFFFFF;\n",
              "    }\n",
              "  </style>\n",
              "\n",
              "      <script>\n",
              "        const buttonEl =\n",
              "          document.querySelector('#df-f30e15d0-b585-4591-bd11-a7ec4a57196a button.colab-df-convert');\n",
              "        buttonEl.style.display =\n",
              "          google.colab.kernel.accessAllowed ? 'block' : 'none';\n",
              "\n",
              "        async function convertToInteractive(key) {\n",
              "          const element = document.querySelector('#df-f30e15d0-b585-4591-bd11-a7ec4a57196a');\n",
              "          const dataTable =\n",
              "            await google.colab.kernel.invokeFunction('convertToInteractive',\n",
              "                                                     [key], {});\n",
              "          if (!dataTable) return;\n",
              "\n",
              "          const docLinkHtml = 'Like what you see? Visit the ' +\n",
              "            '<a target=\"_blank\" href=https://colab.research.google.com/notebooks/data_table.ipynb>data table notebook</a>'\n",
              "            + ' to learn more about interactive tables.';\n",
              "          element.innerHTML = '';\n",
              "          dataTable['output_type'] = 'display_data';\n",
              "          await google.colab.output.renderOutput(dataTable, element);\n",
              "          const docLink = document.createElement('div');\n",
              "          docLink.innerHTML = docLinkHtml;\n",
              "          element.appendChild(docLink);\n",
              "        }\n",
              "      </script>\n",
              "    </div>\n",
              "  </div>\n",
              "  "
            ]
          },
          "metadata": {},
          "execution_count": 2
        }
      ],
      "source": [
        "df=pd.read_csv(\"profitdata.txt\", header=None, names=[\"Population\",\"Profit\"])\n",
        "df"
      ]
    },
    {
      "cell_type": "markdown",
      "metadata": {
        "id": "5Be5x7Xtww3y"
      },
      "source": [
        "## Plot Data\n",
        "\n",
        "### Hint\n",
        "\n",
        "ax.scatter(???, ???,marker='.',c='r',label='Entire Data')"
      ]
    },
    {
      "cell_type": "code",
      "execution_count": null,
      "metadata": {
        "id": "i5mnzeg_ww3z",
        "scrolled": true,
        "outputId": "8ba3d002-ae8b-4e5e-b001-d4b74f5af6d7",
        "colab": {
          "base_uri": "https://localhost:8080/",
          "height": 517
        }
      },
      "outputs": [
        {
          "output_type": "display_data",
          "data": {
            "text/plain": [
              "<Figure size 576x576 with 1 Axes>"
            ],
            "image/png": "[encoded data removed]"
          },
          "metadata": {}
        }
      ],
      "source": [
        "fig, ax = plt.subplots() \n",
        "\n",
        "fig.set_figwidth(8)\n",
        "fig.set_figheight(8)\n",
        "# plot should be done on the `axis`: ax\n",
        "ax.scatter(df.iloc[:,0],df.iloc[:,1] ,marker='.',c='r',label='Entire Data')\n",
        "# Set labels for axex and title for plot\n",
        "\n",
        "ax.set_xlabel('Population in 10,000s')\n",
        "ax.set_ylabel('Profit in $10,000s')\n",
        "ax.set_title('Population vs Profit Plot')\n",
        "ax.legend()\n",
        "plt.show()\n"
      ]
    },
    {
      "cell_type": "markdown",
      "metadata": {
        "id": "a-HOSKkpww4m"
      },
      "source": [
        "## Regression Model from SciKit-Learn (sklearn.linear_model.LinearRegression)\n",
        "\n",
        "Documentation: https://scikit-learn.org/stable/modules/generated/sklearn.linear_model.LinearRegression.html#sklearn-linear-model-linearregression\n",
        "\n",
        "In general, any model from SKLEARN library is implemented as follows\n",
        "\n",
        "### Step 1: Import the ML model from library\n",
        "\n",
        "from sklearn.model_category import model_name\n",
        "    \n",
        "### Step 2: Initiate the ML model\n",
        "\n",
        "model = model_name(?,?,...)     where ?.?,... are model hyperparameters\n",
        "\n",
        "### Step 3: Split the data into trainnig and testing data\n",
        "\n",
        "from sklearn.model_selection import train_test_split\n",
        "\n",
        "X_train, X_test, y_train, y_test = train_test_split(X,y, test_size= 0.25, random_state=10)\n",
        "\n",
        "In above case, test_size= 0.25 indicates 25% of test data is randomly selected from total data and random_state=10 indicates a fixed shuffled state, random_state=None creates random shuffling for every new run\n",
        "\n",
        "\n",
        "### Step 4: Fit the model to some data (Train the model)\n",
        "\n",
        "model.fit(X,y)\n",
        "\n",
        "### Step 5: Predict output for new/test data\n",
        "\n",
        "ynew = model.predict(Xnew)\n",
        "\n",
        "### Step 6: Check model performance scores\n",
        "\n",
        "performace_score = model.name_of_scoring_method(X1, y1)"
      ]
    },
    {
      "cell_type": "code",
      "source": [
        "#Step 1: Import the ML model from library\n",
        "from sklearn import linear_model"
      ],
      "metadata": {
        "id": "T0Hbx0imyKUZ"
      },
      "execution_count": null,
      "outputs": []
    },
    {
      "cell_type": "code",
      "source": [
        "#Step 2: Split the data into trainnig and testing data\n",
        "from sklearn.model_selection import train_test_split\n",
        "\n",
        "X = df.iloc[:,0] # Population\n",
        "y = df.iloc[:,1] # Profit\n",
        "\n",
        "# Reshaping the dataset to get a 2D array.\n",
        "X = X.values.reshape((X.shape[0],1))    # Shape: (m,1)\n",
        "y = y.values.reshape((y.shape[0],1))    # Shape: (m,1)\n",
        "\n",
        "X_train, X_test, y_train, y_test = train_test_split(X,y, test_size= 0.20, random_state=10)"
      ],
      "metadata": {
        "id": "kGzPICu4yfUk"
      },
      "execution_count": null,
      "outputs": []
    },
    {
      "cell_type": "code",
      "source": [
        "# Step 3: Initiate the ML model\n",
        "\n",
        "reg_model = linear_model.LinearRegression()"
      ],
      "metadata": {
        "id": "MXbKsMudy9ES"
      },
      "execution_count": null,
      "outputs": []
    },
    {
      "cell_type": "code",
      "source": [
        "#Step 4: Fit the model to some data (Train the model)\n",
        "\n",
        "reg_model.fit(X_train,y_train)"
      ],
      "metadata": {
        "colab": {
          "base_uri": "https://localhost:8080/"
        },
        "id": "_9F0iSHuzGOi",
        "outputId": "f2d838cb-d68a-4513-8553-4c1e5bfd5fad"
      },
      "execution_count": null,
      "outputs": [
        {
          "output_type": "execute_result",
          "data": {
            "text/plain": [
              "LinearRegression()"
            ]
          },
          "metadata": {},
          "execution_count": 17
        }
      ]
    },
    {
      "cell_type": "code",
      "source": [
        "#Step 5: Predict output for new/test data\n",
        "\n",
        "val = np.array([[35], [70]])    # Storing population values in a numpy array\n",
        "#predict1=reg_model.predict()\n",
        "#predict2=reg_model.predict()\n",
        "\n",
        "predictions = reg_model.predict(val)    # Returns a numpy array with predicted\n",
        "                                        # values"
      ],
      "metadata": {
        "id": "cF7Gjc785i4J"
      },
      "execution_count": null,
      "outputs": []
    },
    {
      "cell_type": "code",
      "execution_count": null,
      "metadata": {
        "id": "NJ7_2VNXww4o",
        "outputId": "f68ad30b-eb31-440a-92b9-c3d040e05969",
        "colab": {
          "base_uri": "https://localhost:8080/"
        }
      },
      "outputs": [
        {
          "output_type": "stream",
          "name": "stdout",
          "text": [
            "For population = 35,000, predicted profit from SKlearn is   382629.9$\n",
            "For population = 70,000, predicted profit from SKlearn is   806266.5$\n",
            "\n",
            "R^2 score for training data =     0.7608\n",
            "R^2 score for testing data  =     0.2247\n",
            "\n",
            "Theta_0 =    -4.1007\n",
            "Theta_1 =     1.2104\n"
          ]
        }
      ],
      "source": [
        "print('For population = 35,000, predicted profit from SKlearn is %10.1f$'%(predictions[0]*10000))\n",
        "print('For population = 70,000, predicted profit from SKlearn is %10.1f$'%(predictions[1]*10000))\n",
        "print()\n",
        "\n",
        "#Step 6: Check model performance scores\n",
        "\n",
        "score_train = reg_model.score(X_train, y_train)\n",
        "score_test = reg_model.score(X_test, y_test)\n",
        "\n",
        "print('R^2 score for training data = %10.4f'%(score_train))\n",
        "print('R^2 score for testing data  = %10.4f'%(score_test))\n",
        "print()\n",
        "\n",
        "# Inspecting model parameters\n",
        "\n",
        "theta0 = reg_model.intercept_\n",
        "theta1 = reg_model.coef_[0]\n",
        "print('Theta_0 = %10.4f'%(theta0))\n",
        "print('Theta_1 = %10.4f'%(theta1))"
      ]
    },
    {
      "cell_type": "markdown",
      "metadata": {
        "id": "ErObF9ZoI-qW"
      },
      "source": [
        "# Visualize Training and Testing Data"
      ]
    },
    {
      "cell_type": "code",
      "execution_count": null,
      "metadata": {
        "scrolled": true,
        "id": "rEAzDIpmI-qW",
        "colab": {
          "base_uri": "https://localhost:8080/",
          "height": 517
        },
        "outputId": "8cb5d4a7-e92b-4931-f62e-a24b8c1fe6cc"
      },
      "outputs": [
        {
          "output_type": "display_data",
          "data": {
            "text/plain": [
              "<Figure size 576x576 with 1 Axes>"
            ],
            "image/png": "[encoded data removed]"
          },
          "metadata": {}
        }
      ],
      "source": [
        "fig, ax = plt.subplots() \n",
        "\n",
        "fig.set_figwidth(8)\n",
        "fig.set_figheight(8)\n",
        "# plot should be done on the `axis`: ax\n",
        "ax.scatter(X_train, y_train,marker='.',c='r',label='Training Data')\n",
        "ax.scatter(X_test, y_test,marker='.',c='b',label='Testing Data')\n",
        "\n",
        "# plot regression model\n",
        "# Making numpy arrays instead of python lists for easier computation.\n",
        "x1 = np.array([5,22.5])\n",
        "# Using np.multiply to multiply two arrays/scalars to avoid shape errors.\n",
        "y1 = np.array([np.sum((theta0, np.multiply(theta1,x1[0]))), np.sum((theta0, np.multiply(theta1,x1[1])))])\n",
        "ax.plot(x1, y1,marker='',c='g',label='Linear Regression Model')\n",
        "\n",
        "# Set labels for axex and title for plot\n",
        "\n",
        "ax.set_xlabel('Population in 10,000s')\n",
        "ax.set_ylabel('Profit in $10,000s')\n",
        "ax.set_title('Population vs Profit Plot')\n",
        "ax.legend()\n",
        "plt.show()\n"
      ]
    },
    {
      "cell_type": "markdown",
      "metadata": {
        "id": "K84yss_Eww33"
      },
      "source": [
        "\n",
        "\n",
        "# FOR REFERENCE \n",
        "\n",
        "# Python code for linear regression developed from classroom theory\n",
        "\n",
        "\n",
        "## Compute Cost and Gradient Descent"
      ]
    },
    {
      "cell_type": "code",
      "execution_count": null,
      "metadata": {
        "id": "LxbF--Faww34"
      },
      "outputs": [],
      "source": [
        "p=df.population.values\n",
        "m=len(p)\n",
        "X=np.array([np.ones(m),p]) #add first column to ones to X\n",
        "X=np.transpose(X)\n",
        "y=df.profit.values\n",
        "theta=np.zeros(2)"
      ]
    },
    {
      "cell_type": "code",
      "execution_count": null,
      "metadata": {
        "id": "NTYQv6LJww36"
      },
      "outputs": [],
      "source": [
        "def computeCost(X, y, theta):\n",
        "    # COMPUTECOST Compute cost for linear regression\n",
        "    #   J = COMPUTECOST(X, y, theta) computes the cost of using theta as the\n",
        "    #  parameter for linear regression to fit the data points in X and y\n",
        "\n",
        "    # Initialize some useful values\n",
        "    m = len(X) # number of training examples\n",
        "\n",
        "    # You need to return the following variables correctly \n",
        "    J = 0\n",
        "\n",
        "    # ====================== YOUR CODE HERE ======================\n",
        "    # Instructions: Compute the cost of a particular choice of theta\n",
        "    #               You should set J to the cost.\n",
        "\n",
        "    h = X @ theta\n",
        "    err = h-y\n",
        "    err_sqr = err**2\n",
        "    J=sum(err_sqr)/(2*m)\n",
        "    \n",
        "    return J"
      ]
    },
    {
      "cell_type": "code",
      "execution_count": null,
      "metadata": {
        "id": "pbliuiNGww39"
      },
      "outputs": [],
      "source": [
        "def gradientDescent(X, y, theta, alpha, num_iters):\n",
        "    #GRADIENTDESCENT Performs gradient descent to learn theta\n",
        "    #   theta = GRADIENTDESCENT(X, y, theta, alpha, num_iters) updates theta by \n",
        "    #   taking num_iters gradient steps with learning rate alpha\n",
        "    \n",
        "    # Initialize some useful values\n",
        "    m = len(y) # number of training examples\n",
        "    J_history = np.zeros(num_iters)\n",
        "    \n",
        "    for iter in range(num_iters):\n",
        "        # ====================== YOUR CODE HERE ======================\n",
        "        # Instructions: Perform a single gradient step on the parameter vector\n",
        "        #               theta. \n",
        "        #\n",
        "        # Hint: While debugging, it can be useful to print out the values\n",
        "        #       of the cost function (computeCost) and gradient here.\n",
        "        #\n",
        "        h = X @ theta\n",
        "        \n",
        "        myErr = h-y\n",
        "        myErr = np.transpose(np.array([myErr,myErr]))\n",
        "        \n",
        "        mySum = np.sum(X*myErr, axis=0)\n",
        "        \n",
        "        theta = theta - alpha*mySum/m\n",
        "        # ============================================================\n",
        "        # Save the cost J in every iteration    \n",
        "        J_history[iter]=computeCost(X, y, theta)\n",
        "\n",
        "        #print('#',iter,'theta',theta,'J',J_history[iter])\n",
        "    \n",
        "    return theta"
      ]
    },
    {
      "cell_type": "code",
      "execution_count": null,
      "metadata": {
        "id": "a6stdNMOww4A"
      },
      "outputs": [],
      "source": [
        "iterations = 5000\n",
        "alpha = 0.01\n",
        "theta = gradientDescent(X, y, theta, alpha, iterations)"
      ]
    },
    {
      "cell_type": "markdown",
      "metadata": {
        "id": "wJ8liWHpww4G"
      },
      "source": [
        "## Validate your code"
      ]
    },
    {
      "cell_type": "code",
      "execution_count": null,
      "metadata": {
        "id": "cF84lwftww4H"
      },
      "outputs": [],
      "source": [
        "print('With theta = [0,0], cost computed J = %10.2f'%computeCost(X,y,[0,0]), '(Expected cost = 32.07 approx.)')\n",
        "print('With theta = [-1,2], cost computed J = %10.2f'%computeCost(X,y,[-1,2]), '(Expected cost = 54.24 approx.)')\n",
        "print('Theta found by gradient descent= %10.4f , %10.4f'%(theta[0],theta[1]),'(Expected values: -3.8953, 1.1930)')"
      ]
    },
    {
      "cell_type": "markdown",
      "metadata": {
        "id": "AWv-jFJMww4M"
      },
      "source": [
        "## Plot Training data and Regression model"
      ]
    },
    {
      "cell_type": "code",
      "execution_count": null,
      "metadata": {
        "id": "_IkbOpjcww4N"
      },
      "outputs": [],
      "source": [
        "fig, ax = plt.subplots() \n",
        "\n",
        "fig.set_figwidth(5)\n",
        "fig.set_figheight(5)\n",
        "# plot should be done on the `axis`: ax\n",
        "ax.scatter(df.population, df.profit,marker='.',c='r',label='Entire Data')\n",
        "# Set labels for axex and title for plot\n",
        "\n",
        "\n",
        "y_predicted=np.dot(X,np.transpose(theta))\n",
        "ax.plot(df.population.values,y_predicted,c='b',label='Linear Regression')\n",
        "\n",
        "ax.set_xlabel('Population in 10,000s')\n",
        "ax.set_ylabel('Profit in $10,000s')\n",
        "ax.set_title('Population vs Profit Plot')\n",
        "ax.legend()\n",
        "plt.show()"
      ]
    },
    {
      "cell_type": "markdown",
      "metadata": {
        "id": "57wS0jDbww4R"
      },
      "source": [
        "## Predict values for population of 35,000 and 70,000"
      ]
    },
    {
      "cell_type": "code",
      "execution_count": null,
      "metadata": {
        "id": "8OGGuSjdww4S"
      },
      "outputs": [],
      "source": [
        "predict1=np.dot([1, 3.5],np.transpose(theta))*10000\n",
        "print('For population = 35,000, we predict a profit of %10.1f$'%predict1)\n",
        "predict2=np.dot([1, 7],np.transpose(theta))*10000\n",
        "print('For population = 70,000, we predict a profit of %10.1f$'%predict2)"
      ]
    },
    {
      "cell_type": "markdown",
      "metadata": {
        "id": "CIqRWevhww4Y"
      },
      "source": [
        "## Visualizing J(theta_0, theta_1)"
      ]
    },
    {
      "cell_type": "code",
      "execution_count": null,
      "metadata": {
        "id": "-VfnoDIrww4Z"
      },
      "outputs": [],
      "source": [
        "theta0_vals = np.linspace(-10, 10, 100)\n",
        "theta1_vals = np.linspace(-1, 4, 100)\n",
        "\n",
        "J_vals = np.zeros([len(theta0_vals), len(theta1_vals)])\n",
        "for i in range(len(theta0_vals)):\n",
        "    for j in range(len(theta1_vals)):\n",
        "        t=[theta0_vals[i],theta1_vals[j]]\n",
        "        J_vals[i,j]=computeCost(X,y,t)\n",
        "\n",
        "J_vals=np.transpose(J_vals)\n",
        "\n",
        "theta0_vals, theta1_vals = np.meshgrid(theta0_vals, theta1_vals)\n"
      ]
    },
    {
      "cell_type": "code",
      "execution_count": null,
      "metadata": {
        "id": "h16D_8faww4d"
      },
      "outputs": [],
      "source": [
        "fig1 = plt.figure()\n",
        "\n",
        "ax1 = fig1.add_subplot(111, projection='3d')\n",
        "\n",
        "ax1.set_xlabel(r'$\\theta_0$')\n",
        "ax1.set_ylabel(r'$\\theta_1$')\n",
        "ax1.set_zlabel('J - Cost function')\n",
        "\n",
        "ax1.plot_surface(theta0_vals, theta1_vals, J_vals,cmap=cm.coolwarm, linewidth=0, antialiased=False)\n",
        "plt.show()"
      ]
    },
    {
      "cell_type": "code",
      "execution_count": null,
      "metadata": {
        "id": "VkWJFxWeww4h"
      },
      "outputs": [],
      "source": [
        "# Plot J_vals as 15 contours spaced logarithmically between 0.01 and 100\n",
        "fig2, ax2 = plt.subplots(1, 1)\n",
        "\n",
        "ax2.contour(theta0_vals, theta1_vals, J_vals, np.logspace(-2, 3, 20))\n",
        "ax2.xaxis.set_label_text(r'$\\theta_0$')\n",
        "ax2.yaxis.set_label_text(r'$\\theta_1$')\n",
        "\n",
        "ax2.plot(theta[0], theta[1], 'rx')\n",
        "plt.show()"
      ]
    },
    {
      "cell_type": "code",
      "execution_count": null,
      "metadata": {
        "id": "ArPK5PImww4u"
      },
      "outputs": [],
      "source": []
    }
  ],
  "metadata": {
    "colab": {
      "collapsed_sections": [],
      "provenance": []
    },
    "kernelspec": {
      "display_name": "Python 3",
      "language": "python",
      "name": "python3"
    },
    "language_info": {
      "codemirror_mode": {
        "name": "ipython",
        "version": 3
      },
      "file_extension": ".py",
      "mimetype": "text/x-python",
      "name": "python",
      "nbconvert_exporter": "python",
      "pygments_lexer": "ipython3",
      "version": "3.8.8"
    }
  },
  "nbformat": 4,
  "nbformat_minor": 0
}