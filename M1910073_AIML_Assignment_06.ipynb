{
  "cells": [
    {
      "cell_type": "markdown",
      "metadata": {
        "id": "ouMhSIrmww3n"
      },
      "source": [
        "# A06 Hyperparameter Tuning using GridSearchCV"
      ]
    },
    {
      "cell_type": "code",
      "execution_count": 33,
      "metadata": {
        "id": "D-TcRfZkww3o"
      },
      "outputs": [],
      "source": [
        "#%matplotlib notebook\n",
        "import pandas as pd\n",
        "import matplotlib.pyplot as plt\n",
        "import matplotlib\n",
        "import numpy as np\n",
        "from mpl_toolkits.mplot3d import Axes3D\n",
        "\n",
        "# Look pretty...\n",
        "\n",
        "# matplotlib.style.use('ggplot')\n",
        "plt.style.use('ggplot')"
      ]
    },
    {
      "cell_type": "markdown",
      "metadata": {
        "id": "Vs8rzIi8ww3t"
      },
      "source": [
        "## Read Data\n",
        "\n",
        "\n"
      ]
    },
    {
      "cell_type": "code",
      "execution_count": 34,
      "metadata": {
        "id": "lpHkAXYwww3t",
        "outputId": "cf661756-c746-4eff-ab6e-8fa4d5d056f9",
        "colab": {
          "base_uri": "https://localhost:8080/",
          "height": 424
        }
      },
      "outputs": [
        {
          "output_type": "execute_result",
          "data": {
            "text/plain": [
              "       score1     score2  admission\n",
              "0   34.623660  78.024693          0\n",
              "1   30.286711  43.894998          0\n",
              "2   35.847409  72.902198          0\n",
              "3   60.182599  86.308552          1\n",
              "4   79.032736  75.344376          1\n",
              "..        ...        ...        ...\n",
              "95  83.489163  48.380286          1\n",
              "96  42.261701  87.103851          1\n",
              "97  99.315009  68.775409          1\n",
              "98  55.340018  64.931938          1\n",
              "99  74.775893  89.529813          1\n",
              "\n",
              "[100 rows x 3 columns]"
            ],
            "text/html": [
              "\n",
              "  <div id=\"df-87c4b440-65f2-4f16-b9ad-fcde9aa658f0\">\n",
              "    <div class=\"colab-df-container\">\n",
              "      <div>\n",
              "<style scoped>\n",
              "    .dataframe tbody tr th:only-of-type {\n",
              "        vertical-align: middle;\n",
              "    }\n",
              "\n",
              "    .dataframe tbody tr th {\n",
              "        vertical-align: top;\n",
              "    }\n",
              "\n",
              "    .dataframe thead th {\n",
              "        text-align: right;\n",
              "    }\n",
              "</style>\n",
              "<table border=\"1\" class=\"dataframe\">\n",
              "  <thead>\n",
              "    <tr style=\"text-align: right;\">\n",
              "      <th></th>\n",
              "      <th>score1</th>\n",
              "      <th>score2</th>\n",
              "      <th>admission</th>\n",
              "    </tr>\n",
              "  </thead>\n",
              "  <tbody>\n",
              "    <tr>\n",
              "      <th>0</th>\n",
              "      <td>34.623660</td>\n",
              "      <td>78.024693</td>\n",
              "      <td>0</td>\n",
              "    </tr>\n",
              "    <tr>\n",
              "      <th>1</th>\n",
              "      <td>30.286711</td>\n",
              "      <td>43.894998</td>\n",
              "      <td>0</td>\n",
              "    </tr>\n",
              "    <tr>\n",
              "      <th>2</th>\n",
              "      <td>35.847409</td>\n",
              "      <td>72.902198</td>\n",
              "      <td>0</td>\n",
              "    </tr>\n",
              "    <tr>\n",
              "      <th>3</th>\n",
              "      <td>60.182599</td>\n",
              "      <td>86.308552</td>\n",
              "      <td>1</td>\n",
              "    </tr>\n",
              "    <tr>\n",
              "      <th>4</th>\n",
              "      <td>79.032736</td>\n",
              "      <td>75.344376</td>\n",
              "      <td>1</td>\n",
              "    </tr>\n",
              "    <tr>\n",
              "      <th>...</th>\n",
              "      <td>...</td>\n",
              "      <td>...</td>\n",
              "      <td>...</td>\n",
              "    </tr>\n",
              "    <tr>\n",
              "      <th>95</th>\n",
              "      <td>83.489163</td>\n",
              "      <td>48.380286</td>\n",
              "      <td>1</td>\n",
              "    </tr>\n",
              "    <tr>\n",
              "      <th>96</th>\n",
              "      <td>42.261701</td>\n",
              "      <td>87.103851</td>\n",
              "      <td>1</td>\n",
              "    </tr>\n",
              "    <tr>\n",
              "      <th>97</th>\n",
              "      <td>99.315009</td>\n",
              "      <td>68.775409</td>\n",
              "      <td>1</td>\n",
              "    </tr>\n",
              "    <tr>\n",
              "      <th>98</th>\n",
              "      <td>55.340018</td>\n",
              "      <td>64.931938</td>\n",
              "      <td>1</td>\n",
              "    </tr>\n",
              "    <tr>\n",
              "      <th>99</th>\n",
              "      <td>74.775893</td>\n",
              "      <td>89.529813</td>\n",
              "      <td>1</td>\n",
              "    </tr>\n",
              "  </tbody>\n",
              "</table>\n",
              "<p>100 rows × 3 columns</p>\n",
              "</div>\n",
              "      <button class=\"colab-df-convert\" onclick=\"convertToInteractive('df-87c4b440-65f2-4f16-b9ad-fcde9aa658f0')\"\n",
              "              title=\"Convert this dataframe to an interactive table.\"\n",
              "              style=\"display:none;\">\n",
              "        \n",
              "  <svg xmlns=\"http://www.w3.org/2000/svg\" height=\"24px\"viewBox=\"0 0 24 24\"\n",
              "       width=\"24px\">\n",
              "    <path d=\"M0 0h24v24H0V0z\" fill=\"none\"/>\n",
              "    <path d=\"M18.56 5.44l.94 2.06.94-2.06 2.06-.94-2.06-.94-.94-2.06-.94 2.06-2.06.94zm-11 1L8.5 8.5l.94-2.06 2.06-.94-2.06-.94L8.5 2.5l-.94 2.06-2.06.94zm10 10l.94 2.06.94-2.06 2.06-.94-2.06-.94-.94-2.06-.94 2.06-2.06.94z\"/><path d=\"M17.41 7.96l-1.37-1.37c-.4-.4-.92-.59-1.43-.59-.52 0-1.04.2-1.43.59L10.3 9.45l-7.72 7.72c-.78.78-.78 2.05 0 2.83L4 21.41c.39.39.9.59 1.41.59.51 0 1.02-.2 1.41-.59l7.78-7.78 2.81-2.81c.8-.78.8-2.07 0-2.86zM5.41 20L4 18.59l7.72-7.72 1.47 1.35L5.41 20z\"/>\n",
              "  </svg>\n",
              "      </button>\n",
              "      \n",
              "  <style>\n",
              "    .colab-df-container {\n",
              "      display:flex;\n",
              "      flex-wrap:wrap;\n",
              "      gap: 12px;\n",
              "    }\n",
              "\n",
              "    .colab-df-convert {\n",
              "      background-color: #E8F0FE;\n",
              "      border: none;\n",
              "      border-radius: 50%;\n",
              "      cursor: pointer;\n",
              "      display: none;\n",
              "      fill: #1967D2;\n",
              "      height: 32px;\n",
              "      padding: 0 0 0 0;\n",
              "      width: 32px;\n",
              "    }\n",
              "\n",
              "    .colab-df-convert:hover {\n",
              "      background-color: #E2EBFA;\n",
              "      box-shadow: 0px 1px 2px rgba(60, 64, 67, 0.3), 0px 1px 3px 1px rgba(60, 64, 67, 0.15);\n",
              "      fill: #174EA6;\n",
              "    }\n",
              "\n",
              "    [theme=dark] .colab-df-convert {\n",
              "      background-color: #3B4455;\n",
              "      fill: #D2E3FC;\n",
              "    }\n",
              "\n",
              "    [theme=dark] .colab-df-convert:hover {\n",
              "      background-color: #434B5C;\n",
              "      box-shadow: 0px 1px 3px 1px rgba(0, 0, 0, 0.15);\n",
              "      filter: drop-shadow(0px 1px 2px rgba(0, 0, 0, 0.3));\n",
              "      fill: #FFFFFF;\n",
              "    }\n",
              "  </style>\n",
              "\n",
              "      <script>\n",
              "        const buttonEl =\n",
              "          document.querySelector('#df-87c4b440-65f2-4f16-b9ad-fcde9aa658f0 button.colab-df-convert');\n",
              "        buttonEl.style.display =\n",
              "          google.colab.kernel.accessAllowed ? 'block' : 'none';\n",
              "\n",
              "        async function convertToInteractive(key) {\n",
              "          const element = document.querySelector('#df-87c4b440-65f2-4f16-b9ad-fcde9aa658f0');\n",
              "          const dataTable =\n",
              "            await google.colab.kernel.invokeFunction('convertToInteractive',\n",
              "                                                     [key], {});\n",
              "          if (!dataTable) return;\n",
              "\n",
              "          const docLinkHtml = 'Like what you see? Visit the ' +\n",
              "            '<a target=\"_blank\" href=https://colab.research.google.com/notebooks/data_table.ipynb>data table notebook</a>'\n",
              "            + ' to learn more about interactive tables.';\n",
              "          element.innerHTML = '';\n",
              "          dataTable['output_type'] = 'display_data';\n",
              "          await google.colab.output.renderOutput(dataTable, element);\n",
              "          const docLink = document.createElement('div');\n",
              "          docLink.innerHTML = docLinkHtml;\n",
              "          element.appendChild(docLink);\n",
              "        }\n",
              "      </script>\n",
              "    </div>\n",
              "  </div>\n",
              "  "
            ]
          },
          "metadata": {},
          "execution_count": 34
        }
      ],
      "source": [
        "df=pd.read_csv(\"studentexamdata.txt\", header=None, names=['score1','score2','admission'])\n",
        "df"
      ]
    },
    {
      "cell_type": "markdown",
      "metadata": {
        "id": "a-HOSKkpww4m"
      },
      "source": [
        "## Create Training and Testing datasets\n"
      ]
    },
    {
      "cell_type": "code",
      "execution_count": 35,
      "metadata": {
        "id": "NJ7_2VNXww4o"
      },
      "outputs": [],
      "source": [
        "X = df[['score1','score2']]\n",
        "y = df[['admission']]\n",
        "\n",
        "\n",
        "from sklearn.model_selection import train_test_split\n",
        "\n",
        "X_train, X_test, y_train, y_test = train_test_split(X,y, test_size= 0.25, random_state=20)\n"
      ]
    },
    {
      "cell_type": "markdown",
      "source": [
        "#Find the average accuracy of Logistic regression model (with C=0.00001) using K-Fold Cross Validation\n",
        "\n"
      ],
      "metadata": {
        "id": "SCNB_940dqX-"
      }
    },
    {
      "cell_type": "code",
      "execution_count": 36,
      "metadata": {
        "id": "IMdF4VT9cFBT",
        "colab": {
          "base_uri": "https://localhost:8080/"
        },
        "outputId": "68042ad9-3dcb-4b17-8ba1-0236e2849f3d"
      },
      "outputs": [
        {
          "output_type": "stream",
          "name": "stdout",
          "text": [
            "Cross validation Accuracy scores for each fold =  [0.73684211 0.63157895 0.47368421 0.66666667]\n",
            "Average CV Accuracy of Logistic Regression model =  0.6271929824561403\n"
          ]
        }
      ],
      "source": [
        "from sklearn.linear_model import LogisticRegression\n",
        "\n",
        "#Initiate logistic regression model with C = 0.00001\n",
        "# C is the inverse of regularization strength, smaller C -> more regularization\n",
        "logistic_model = LogisticRegression(C=0.00001)\n",
        "\n",
        "#Initiate K-Fold with 4 Folds\n",
        "from sklearn.model_selection import cross_val_score, KFold\n",
        "kf = KFold(4, random_state=10, shuffle=True)\n",
        "\n",
        "#Obtain K-Fold CV results \n",
        "cv_results = cross_val_score(logistic_model, X_train, y_train.values.ravel(), cv=kf, scoring='accuracy')\n",
        "print(\"Cross validation Accuracy scores for each fold = \", cv_results)\n",
        "print(\"Average CV Accuracy of Logistic Regression model = \", np.mean(cv_results))"
      ]
    },
    {
      "cell_type": "markdown",
      "source": [
        "# PART A: Implement GridSearchCV to find the best value of hyperparameter C for Logistic Regression\n",
        "\n",
        "1. Import GridSearchCV. Documentation : https://scikit-learn.org/stable/modules/generated/sklearn.model_selection.GridSearchCV.html#sklearn.model_selection.GridSearchCV \n",
        "2. Set up a parameter grid for \"C\", using np.linspace() to create 20 evenly spaced values ranging from 0.00001 to 10.\n",
        "3. Call GridSearchCV(), passing logistic_model, the parameter grid, and setting cv equal to kf.\n",
        "4. Fit the grid search object to the training data to perform a cross-validated grid search.\n",
        "\n",
        "\n",
        "\n"
      ],
      "metadata": {
        "id": "pxihDNIrtym0"
      }
    },
    {
      "cell_type": "code",
      "source": [
        "# Import GridSearchCV\n",
        "from sklearn.model_selection import GridSearchCV\n",
        "\n",
        "# Set up the parameter grid, C is inverse of regularization strength, small C -> more regularization\n",
        "param_grid = {\"C\": np.linspace(0.00001, 10, 20)}\n",
        "\n",
        "# Instantiate logistic_cv\n",
        "logistic_cv = GridSearchCV(logistic_model, param_grid, cv=kf)\n",
        "\n",
        "# Fit to the training data\n",
        "logistic_cv.fit(X_train,y_train.values.ravel())\n",
        "print(\"Tuned logistic regression paramaters: {}\".format(logistic_cv.best_params_))\n",
        "print(\"Tuned logistic regression score: {}\".format(logistic_cv.best_score_))"
      ],
      "metadata": {
        "id": "KCUHAWB3t8QG",
        "colab": {
          "base_uri": "https://localhost:8080/"
        },
        "outputId": "ebf1dfc7-f364-4ecc-a359-bf8932f676a5"
      },
      "execution_count": 37,
      "outputs": [
        {
          "output_type": "stream",
          "name": "stdout",
          "text": [
            "Tuned logistic regression paramaters: {'C': 0.5263252631578947}\n",
            "Tuned logistic regression score: 0.8135964912280702\n"
          ]
        }
      ]
    },
    {
      "cell_type": "markdown",
      "source": [
        "After implementing GridSearchCV, the best accuracy score obtained is **0.8523391812865496** when value for C is set to **0.5263252631578947**."
      ],
      "metadata": {
        "id": "0iHsLS69bi7E"
      }
    },
    {
      "cell_type": "markdown",
      "source": [
        "# PART B: OPTIONAL Implement GridSearchCV to find the best combination of hyperparameters 'solver' and 'C' for Logistic Regression\n",
        "\n",
        "1. Set up a parameter grid for \"solver\"=[\"newton-cg\", \"lbfgs\", \"liblinear\"] and \"C\"= 20 evenly spaced values between 0.00001 and 10\n",
        "2. Call GridSearchCV(), passing logistic_model, the parameter grid, and setting cv equal to kf.\n",
        "3. Fit the grid search object to the training data to perform a cross-validated grid search.\n",
        "\n",
        "\n",
        "\n"
      ],
      "metadata": {
        "id": "_G1lnP-ebjsf"
      }
    },
    {
      "cell_type": "code",
      "source": [
        "# Import GridSearchCV\n",
        "from sklearn.model_selection import GridSearchCV\n",
        "\n",
        "# Set up the parameter grid for two hyperparameters C and solver\n",
        "params_grid = {\n",
        "    \"C\":np.linspace(0.00001, 10, 20),\n",
        "    \"solver\":[\"newton-cg\", \"lbfgs\", \"liblinear\"]\n",
        "}\n",
        "# Instantiate logistic_cv\n",
        "logistic_cv = GridSearchCV(estimator = logistic_model,\n",
        "                           param_grid=params_grid, cv=kf)\n",
        "\n",
        "# Fit to the training data\n",
        "logistic_cv.fit(X_train,y_train.values.ravel())\n",
        "print(\"Tuned logistic regression paramaters: {}\".format(logistic_cv.best_params_))\n",
        "print(\"Tuned logistic regression score: {}\".format(logistic_cv.best_score_))"
      ],
      "metadata": {
        "id": "a8RSixpgcYJ2",
        "colab": {
          "base_uri": "https://localhost:8080/"
        },
        "outputId": "fb792283-604b-4665-d592-eda2c8f8cff0"
      },
      "execution_count": 32,
      "outputs": [
        {
          "output_type": "stream",
          "name": "stdout",
          "text": [
            "Tuned logistic regression paramaters: {'C': 8.94736947368421, 'solver': 'liblinear'}\n",
            "Tuned logistic regression score: 0.8676900584795322\n"
          ]
        }
      ]
    },
    {
      "cell_type": "markdown",
      "source": [
        "After implementing GridSearchCV for the LogisticRegression model by varying parameters for regularization parameter (C) and different solvers, the best accuracy score obtained is **0.8676900584795322** when **C = 8.94736947368421** and solver is set to **liblinear**."
      ],
      "metadata": {
        "id": "j0f3E-xdJItu"
      }
    },
    {
      "cell_type": "code",
      "source": [],
      "metadata": {
        "id": "pPGeKLnEJyiL"
      },
      "execution_count": 32,
      "outputs": []
    },
    {
      "cell_type": "markdown",
      "source": [
        "Name: - Anirudhha Sankhe\n",
        "\n",
        "Registration No.: - M1910073\n",
        "\n",
        "Class: - B.tech Mechanical\n",
        "\n"
      ],
      "metadata": {
        "id": "0bmzdcpxA3Wt"
      }
    }
  ],
  "metadata": {
    "colab": {
      "collapsed_sections": [],
      "provenance": []
    },
    "kernelspec": {
      "display_name": "Python 3",
      "language": "python",
      "name": "python3"
    },
    "language_info": {
      "codemirror_mode": {
        "name": "ipython",
        "version": 3
      },
      "file_extension": ".py",
      "mimetype": "text/x-python",
      "name": "python",
      "nbconvert_exporter": "python",
      "pygments_lexer": "ipython3",
      "version": "3.8.3"
    }
  },
  "nbformat": 4,
  "nbformat_minor": 0
}